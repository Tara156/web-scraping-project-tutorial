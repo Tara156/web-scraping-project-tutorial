{
    "cells": [
        {
            "cell_type": "markdown",
            "metadata": {},
            "source": [
                "# Explora aquí\n",
                "\n",
                "Se recomienda utilizar este cuaderno con fines de exploración."
            ]
        },
        {
            "cell_type": "code",
            "execution_count": 3,
            "metadata": {},
            "outputs": [],
            "source": [
                "import os\n",
                "from bs4 import BeautifulSoup\n",
                "import requests\n",
                "import time\n",
                "import sqlite3\n",
                "import matplotlib.pyplot as plt\n",
                "import seaborn as sns\n",
                "import pandas as pd\n"
            ]
        },
        {
            "cell_type": "code",
            "execution_count": null,
            "metadata": {},
            "outputs": [],
            "source": [
                "import requests\n",
                "import io\n",
                "\n",
                "\n",
                "# URL de Wikipedia\n",
                "# url = \"https://en.wikipedia.org/wiki/List_of_Spotify_streaming_records\"\n",
                "# tables = pd.read_html(url) \n",
                "\n",
                "url = \"https://en.wikipedia.org/wiki/List_of_Spotify_streaming_records\"\n",
                "\n",
                "response = requests.get(url)\n",
                "html = io.StringIO(response.text)\n",
                "tables = pd.read_html(html)\n"
            ]
        },
        {
            "cell_type": "code",
            "execution_count": 5,
            "metadata": {},
            "outputs": [
                {
                    "name": "stdout",
                    "output_type": "stream",
                    "text": [
                        "Se encontraron 27 tablas.\n"
                    ]
                }
            ],
            "source": [
                "print(f\"Se encontraron {len(tables)} tablas.\")\n"
            ]
        },
        {
            "cell_type": "code",
            "execution_count": 6,
            "metadata": {},
            "outputs": [],
            "source": [
                "df = tables[0]"
            ]
        },
        {
            "cell_type": "code",
            "execution_count": 7,
            "metadata": {},
            "outputs": [
                {
                    "data": {
                        "text/html": [
                            "<div>\n",
                            "<style scoped>\n",
                            "    .dataframe tbody tr th:only-of-type {\n",
                            "        vertical-align: middle;\n",
                            "    }\n",
                            "\n",
                            "    .dataframe tbody tr th {\n",
                            "        vertical-align: top;\n",
                            "    }\n",
                            "\n",
                            "    .dataframe thead th {\n",
                            "        text-align: right;\n",
                            "    }\n",
                            "</style>\n",
                            "<table border=\"1\" class=\"dataframe\">\n",
                            "  <thead>\n",
                            "    <tr style=\"text-align: right;\">\n",
                            "      <th></th>\n",
                            "      <th>Rank</th>\n",
                            "      <th>Song</th>\n",
                            "      <th>Artist(s)</th>\n",
                            "      <th>Streams (billions)</th>\n",
                            "      <th>Release date</th>\n",
                            "      <th>Ref.</th>\n",
                            "    </tr>\n",
                            "  </thead>\n",
                            "  <tbody>\n",
                            "    <tr>\n",
                            "      <th>0</th>\n",
                            "      <td>1</td>\n",
                            "      <td>\"Blinding Lights\"</td>\n",
                            "      <td>The Weeknd</td>\n",
                            "      <td>4.836</td>\n",
                            "      <td>29 November 2019</td>\n",
                            "      <td>[2]</td>\n",
                            "    </tr>\n",
                            "    <tr>\n",
                            "      <th>1</th>\n",
                            "      <td>2</td>\n",
                            "      <td>\"Shape of You\"</td>\n",
                            "      <td>Ed Sheeran</td>\n",
                            "      <td>4.357</td>\n",
                            "      <td>6 January 2017</td>\n",
                            "      <td>[3]</td>\n",
                            "    </tr>\n",
                            "    <tr>\n",
                            "      <th>2</th>\n",
                            "      <td>3</td>\n",
                            "      <td>\"Someone You Loved\"</td>\n",
                            "      <td>Lewis Capaldi</td>\n",
                            "      <td>3.901</td>\n",
                            "      <td>8 November 2018</td>\n",
                            "      <td>[4]</td>\n",
                            "    </tr>\n",
                            "    <tr>\n",
                            "      <th>3</th>\n",
                            "      <td>4</td>\n",
                            "      <td>\"Starboy\"</td>\n",
                            "      <td>The Weeknd and Daft Punk</td>\n",
                            "      <td>3.889</td>\n",
                            "      <td>21 September 2016</td>\n",
                            "      <td>[5]</td>\n",
                            "    </tr>\n",
                            "    <tr>\n",
                            "      <th>4</th>\n",
                            "      <td>5</td>\n",
                            "      <td>\"As It Was\"</td>\n",
                            "      <td>Harry Styles</td>\n",
                            "      <td>3.873</td>\n",
                            "      <td>1 April 2022</td>\n",
                            "      <td>[6]</td>\n",
                            "    </tr>\n",
                            "    <tr>\n",
                            "      <th>5</th>\n",
                            "      <td>6</td>\n",
                            "      <td>\"Sunflower\"</td>\n",
                            "      <td>Post Malone and Swae Lee</td>\n",
                            "      <td>3.812</td>\n",
                            "      <td>18 October 2018</td>\n",
                            "      <td>[7]</td>\n",
                            "    </tr>\n",
                            "    <tr>\n",
                            "      <th>6</th>\n",
                            "      <td>7</td>\n",
                            "      <td>\"Sweater Weather\"</td>\n",
                            "      <td>The Neighbourhood</td>\n",
                            "      <td>3.768</td>\n",
                            "      <td>3 December 2012</td>\n",
                            "      <td>[8]</td>\n",
                            "    </tr>\n",
                            "    <tr>\n",
                            "      <th>7</th>\n",
                            "      <td>8</td>\n",
                            "      <td>\"One Dance\"</td>\n",
                            "      <td>Drake with Wizkid and Kyla</td>\n",
                            "      <td>3.629</td>\n",
                            "      <td>5 April 2016</td>\n",
                            "      <td>[9]</td>\n",
                            "    </tr>\n",
                            "    <tr>\n",
                            "      <th>8</th>\n",
                            "      <td>9</td>\n",
                            "      <td>\"Stay\"</td>\n",
                            "      <td>The Kid Laroi and Justin Bieber</td>\n",
                            "      <td>3.548</td>\n",
                            "      <td>9 July 2021</td>\n",
                            "      <td>[10]</td>\n",
                            "    </tr>\n",
                            "    <tr>\n",
                            "      <th>9</th>\n",
                            "      <td>10</td>\n",
                            "      <td>\"Perfect\"</td>\n",
                            "      <td>Ed Sheeran</td>\n",
                            "      <td>3.431</td>\n",
                            "      <td>26 September 2017</td>\n",
                            "      <td>[11]</td>\n",
                            "    </tr>\n",
                            "  </tbody>\n",
                            "</table>\n",
                            "</div>"
                        ],
                        "text/plain": [
                            "  Rank                 Song                        Artist(s)  \\\n",
                            "0    1    \"Blinding Lights\"                       The Weeknd   \n",
                            "1    2       \"Shape of You\"                       Ed Sheeran   \n",
                            "2    3  \"Someone You Loved\"                    Lewis Capaldi   \n",
                            "3    4            \"Starboy\"         The Weeknd and Daft Punk   \n",
                            "4    5          \"As It Was\"                     Harry Styles   \n",
                            "5    6          \"Sunflower\"         Post Malone and Swae Lee   \n",
                            "6    7    \"Sweater Weather\"                The Neighbourhood   \n",
                            "7    8          \"One Dance\"       Drake with Wizkid and Kyla   \n",
                            "8    9               \"Stay\"  The Kid Laroi and Justin Bieber   \n",
                            "9   10            \"Perfect\"                       Ed Sheeran   \n",
                            "\n",
                            "  Streams (billions)       Release date  Ref.  \n",
                            "0              4.836   29 November 2019   [2]  \n",
                            "1              4.357     6 January 2017   [3]  \n",
                            "2              3.901    8 November 2018   [4]  \n",
                            "3              3.889  21 September 2016   [5]  \n",
                            "4              3.873       1 April 2022   [6]  \n",
                            "5              3.812    18 October 2018   [7]  \n",
                            "6              3.768    3 December 2012   [8]  \n",
                            "7              3.629       5 April 2016   [9]  \n",
                            "8              3.548        9 July 2021  [10]  \n",
                            "9              3.431  26 September 2017  [11]  "
                        ]
                    },
                    "execution_count": 7,
                    "metadata": {},
                    "output_type": "execute_result"
                }
            ],
            "source": [
                "df.head(10)"
            ]
        },
        {
            "cell_type": "code",
            "execution_count": 13,
            "metadata": {},
            "outputs": [
                {
                    "name": "stdout",
                    "output_type": "stream",
                    "text": [
                        "(101, 6)\n",
                        "<class 'pandas.core.frame.DataFrame'>\n"
                    ]
                }
            ],
            "source": [
                "print(df.shape)\n",
                "print(type(df))"
            ]
        },
        {
            "cell_type": "code",
            "execution_count": null,
            "metadata": {},
            "outputs": [
                {
                    "name": "stdout",
                    "output_type": "stream",
                    "text": [
                        "  Rank         Artist     Top 100            Top 10       3 billion+ streams  \\\n",
                        "  Rank         Artist Total songs Lead Feat.   Lead Feat.               Lead   \n",
                        "0    1     Bruno Mars           6    5     1    NaN   NaN                NaN   \n",
                        "1    2     The Weeknd           5    5   NaN      2   NaN                  2   \n",
                        "2    2       Dua Lipa           5    3     2    NaN   NaN                NaN   \n",
                        "3    3     Ed Sheeran           4    4   NaN      2   NaN                  2   \n",
                        "4    3  Justin Bieber           4    3     1    NaN     1                NaN   \n",
                        "\n",
                        "        4 billion+ streams        \n",
                        "  Feat.               Lead Feat.  \n",
                        "0   NaN                NaN   NaN  \n",
                        "1   NaN                  1   NaN  \n",
                        "2   NaN                NaN   NaN  \n",
                        "3   NaN                  1   NaN  \n",
                        "4     1                NaN   NaN  \n"
                    ]
                }
            ],
            "source": [
                "df_two = tables[1]\n",
                "print(df_two.head())  # imprimir tabla 1 pero sin el response la tabla no se ve bien"
            ]
        }
    ],
    "metadata": {
        "kernelspec": {
            "display_name": "entorno_scraping",
            "language": "python",
            "name": "python3"
        },
        "language_info": {
            "codemirror_mode": {
                "name": "ipython",
                "version": 3
            },
            "file_extension": ".py",
            "mimetype": "text/x-python",
            "name": "python",
            "nbconvert_exporter": "python",
            "pygments_lexer": "ipython3",
            "version": "3.9.13"
        },
        "orig_nbformat": 4
    },
    "nbformat": 4,
    "nbformat_minor": 2
}
